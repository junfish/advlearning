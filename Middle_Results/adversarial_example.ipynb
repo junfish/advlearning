{
  "nbformat": 4,
  "nbformat_minor": 0,
  "metadata": {
    "colab": {
      "name": "run_code.ipynb",
      "provenance": [],
      "collapsed_sections": []
    },
    "kernelspec": {
      "display_name": "Python 3",
      "name": "python3"
    },
    "accelerator": "GPU"
  },
  "cells": [
    {
      "cell_type": "code",
      "metadata": {
        "colab": {
          "base_uri": "https://localhost:8080/"
        },
        "id": "qvaQMRercMys",
        "outputId": "d7847f95-1ca2-40d0-d4fe-5ba8c28dd865"
      },
      "source": [
        "from google.colab import drive\n",
        "drive.mount('/content/gdrive/', force_remount=True)"
      ],
      "execution_count": 1,
      "outputs": [
        {
          "output_type": "stream",
          "text": [
            "Mounted at /content/gdrive/\n"
          ],
          "name": "stdout"
        }
      ]
    },
    {
      "cell_type": "code",
      "metadata": {
        "colab": {
          "base_uri": "https://localhost:8080/"
        },
        "id": "3BgE7XNPcw3m",
        "outputId": "19650d9c-9b90-41b6-a9f9-2900174e3c2e"
      },
      "source": [
        "%cd /content/gdrive/MyDrive/CSE-498/Adversarial_Learning\n",
        "!ls\n",
        "!nvidia-smi"
      ],
      "execution_count": 2,
      "outputs": [
        {
          "output_type": "stream",
          "text": [
            "/content/gdrive/MyDrive/CSE-498/Adversarial_Learning\n",
            "attacking_main.py  datasets\t\t   model_weights  run_code.ipynb\n",
            "base_model.py\t   experiment_operator.py  __pycache__\n",
            "data_process.py    learning_main.py\t   README.md\n",
            "Thu Mar 18 08:44:51 2021       \n",
            "+-----------------------------------------------------------------------------+\n",
            "| NVIDIA-SMI 460.56       Driver Version: 460.32.03    CUDA Version: 11.2     |\n",
            "|-------------------------------+----------------------+----------------------+\n",
            "| GPU  Name        Persistence-M| Bus-Id        Disp.A | Volatile Uncorr. ECC |\n",
            "| Fan  Temp  Perf  Pwr:Usage/Cap|         Memory-Usage | GPU-Util  Compute M. |\n",
            "|                               |                      |               MIG M. |\n",
            "|===============================+======================+======================|\n",
            "|   0  Tesla P100-PCIE...  Off  | 00000000:00:04.0 Off |                    0 |\n",
            "| N/A   33C    P0    26W / 250W |      0MiB / 16280MiB |      0%      Default |\n",
            "|                               |                      |                  N/A |\n",
            "+-------------------------------+----------------------+----------------------+\n",
            "                                                                               \n",
            "+-----------------------------------------------------------------------------+\n",
            "| Processes:                                                                  |\n",
            "|  GPU   GI   CI        PID   Type   Process name                  GPU Memory |\n",
            "|        ID   ID                                                   Usage      |\n",
            "|=============================================================================|\n",
            "|  No running processes found                                                 |\n",
            "+-----------------------------------------------------------------------------+\n"
          ],
          "name": "stdout"
        }
      ]
    },
    {
      "cell_type": "code",
      "metadata": {
        "colab": {
          "base_uri": "https://localhost:8080/",
          "height": 1000
        },
        "id": "8w4dsHzqiap7",
        "outputId": "f919a0ba-5414-444e-db6f-7a6ecd4bd939"
      },
      "source": [
        "%run attacking_main.py 1 1 -n 0 -b 100 -s 26"
      ],
      "execution_count": 3,
      "outputs": [
        {
          "output_type": "stream",
          "text": [
            "Loading cifar10 to the memory...\n",
            "Initialize ResNet18...\n",
            "The chosen picture's idx and class are as below:\n",
            "4\n",
            "deer\n",
            "Visualize this picture:\n"
          ],
          "name": "stdout"
        },
        {
          "output_type": "display_data",
          "data": {
            "image/png": "[encoded data removed]",
            "text/plain": [
              "<Figure size 432x288 with 1 Axes>"
            ]
          },
          "metadata": {
            "tags": [],
            "needs_background": "light"
          }
        },
        {
          "output_type": "stream",
          "text": [
            "Loading learned parameters.\n",
            "Print model's performance: training_accuracy = 0.9989, testing_accuracy = 0.9119\n",
            "                           training_loss = 0.000048, testing_loss = 0.005985\n",
            "Prediction before attack:\n",
            "True class probability: 0.9999495770114563\n",
            "Predictive class: 4\n",
            "Start attacking...\n",
            "Learning the perturbation delta...\n",
            "5 -6.544376083184034e-05\n",
            "10 -0.0001006075763143599\n",
            "15 -0.0002101439022226259\n",
            "20 -0.007622679229825735\n",
            "25 -12.376930236816406\n",
            "30 -11.173171043395996\n",
            "35 -11.154296875\n",
            "40 -8.551447868347168\n",
            "45 -10.569957733154297\n",
            "50 -9.76938247680664\n",
            "After perturbation:\n",
            "True class probability: 5.717566091334447e-05\n",
            "Predictive class: 5\n",
            "Visualization of delta:\n"
          ],
          "name": "stdout"
        },
        {
          "output_type": "display_data",
          "data": {
            "image/png": "[encoded data removed]",
            "text/plain": [
              "<Figure size 432x288 with 1 Axes>"
            ]
          },
          "metadata": {
            "tags": [],
            "needs_background": "light"
          }
        },
        {
          "output_type": "stream",
          "text": [
            "Visualization of sample+delta:\n"
          ],
          "name": "stdout"
        },
        {
          "output_type": "display_data",
          "data": {
            "image/png": "[encoded data removed]",
            "text/plain": [
              "<Figure size 432x288 with 1 Axes>"
            ]
          },
          "metadata": {
            "tags": [],
            "needs_background": "light"
          }
        }
      ]
    },
    {
      "cell_type": "code",
      "metadata": {
        "id": "cqLvIaTGc71t"
      },
      "source": [
        "!python learning_main.py 1 0 -l 0.01 -b 100 -i 100 -s 30 60 80"
      ],
      "execution_count": null,
      "outputs": []
    }
  ]
}